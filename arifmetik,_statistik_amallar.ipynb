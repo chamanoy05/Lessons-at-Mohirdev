{
  "nbformat": 4,
  "nbformat_minor": 0,
  "metadata": {
    "colab": {
      "provenance": [],
      "authorship_tag": "ABX9TyOA1ca+GiiqmoZZvPY+UIso",
      "include_colab_link": true
    },
    "kernelspec": {
      "name": "python3",
      "display_name": "Python 3"
    },
    "language_info": {
      "name": "python"
    }
  },
  "cells": [
    {
      "cell_type": "markdown",
      "metadata": {
        "id": "view-in-github",
        "colab_type": "text"
      },
      "source": [
        "<a href=\"https://colab.research.google.com/github/chamanoy05/Lessons-at-Mohirdev/blob/main/arifmetik%2C_statistik_amallar.ipynb\" target=\"_parent\"><img src=\"https://colab.research.google.com/assets/colab-badge.svg\" alt=\"Open In Colab\"/></a>"
      ]
    },
    {
      "cell_type": "code",
      "execution_count": null,
      "metadata": {
        "id": "Q8GYsy89LvBM"
      },
      "outputs": [],
      "source": [
        "import numpy as np"
      ]
    },
    {
      "cell_type": "code",
      "source": [
        "arr1 = np.arange(6).reshape(2, 3)\n",
        "arr2 = np.arange(6, 12).reshape(2, 3)"
      ],
      "metadata": {
        "id": "6P18oopnMBRM"
      },
      "execution_count": null,
      "outputs": []
    },
    {
      "cell_type": "code",
      "source": [
        "#ko'paytish\n",
        "arr1*arr2 # arr1 ni arr2 ning mos elementlariga ko'paytirib beradi"
      ],
      "metadata": {
        "colab": {
          "base_uri": "https://localhost:8080/"
        },
        "id": "k-YGgDuUMrzU",
        "outputId": "a2cdaaaa-e5c3-4f67-f1bf-032c0069c215"
      },
      "execution_count": null,
      "outputs": [
        {
          "output_type": "execute_result",
          "data": {
            "text/plain": [
              "array([[ 0,  7, 16],\n",
              "       [27, 40, 55]])"
            ]
          },
          "metadata": {},
          "execution_count": 7
        }
      ]
    },
    {
      "cell_type": "code",
      "source": [
        "#bo'lish\n",
        "arr1/arr2 #arr1 ni arr2 ning mos elementlariga bo'lib beradi"
      ],
      "metadata": {
        "colab": {
          "base_uri": "https://localhost:8080/"
        },
        "id": "w5fYOq3ENCWU",
        "outputId": "f8b1b41f-af54-4787-b999-b55953d89c80"
      },
      "execution_count": null,
      "outputs": [
        {
          "output_type": "execute_result",
          "data": {
            "text/plain": [
              "array([[0.        , 0.14285714, 0.25      ],\n",
              "       [0.33333333, 0.4       , 0.45454545]])"
            ]
          },
          "metadata": {},
          "execution_count": 6
        }
      ]
    },
    {
      "cell_type": "code",
      "source": [
        "# qo'shish\n",
        "arr1 + arr2"
      ],
      "metadata": {
        "colab": {
          "base_uri": "https://localhost:8080/"
        },
        "id": "7umA8ZXJNvwC",
        "outputId": "ebf275e5-254f-4093-daf9-32f79e1aba0a"
      },
      "execution_count": null,
      "outputs": [
        {
          "output_type": "execute_result",
          "data": {
            "text/plain": [
              "array([[ 6,  8, 10],\n",
              "       [12, 14, 16]])"
            ]
          },
          "metadata": {},
          "execution_count": 8
        }
      ]
    },
    {
      "cell_type": "code",
      "source": [
        "#ayrish\n",
        "arr2- arr1"
      ],
      "metadata": {
        "colab": {
          "base_uri": "https://localhost:8080/"
        },
        "id": "otlPpto8N3fr",
        "outputId": "38f87019-53bb-413d-ee45-500ed9e8c8c7"
      },
      "execution_count": null,
      "outputs": [
        {
          "output_type": "execute_result",
          "data": {
            "text/plain": [
              "array([[6, 6, 6],\n",
              "       [6, 6, 6]])"
            ]
          },
          "metadata": {},
          "execution_count": 11
        }
      ]
    },
    {
      "cell_type": "code",
      "source": [
        "#kvadratga oshirish\n",
        "arr1**2"
      ],
      "metadata": {
        "colab": {
          "base_uri": "https://localhost:8080/"
        },
        "id": "lazNZo4mOIuU",
        "outputId": "54124ae5-2437-4502-caaf-ffc810d2be5c"
      },
      "execution_count": null,
      "outputs": [
        {
          "output_type": "execute_result",
          "data": {
            "text/plain": [
              "array([[ 0,  1,  4],\n",
              "       [ 9, 16, 25]])"
            ]
          },
          "metadata": {},
          "execution_count": 12
        }
      ]
    },
    {
      "cell_type": "code",
      "source": [
        "#darajaga oshirish\n",
        "arr2**4"
      ],
      "metadata": {
        "colab": {
          "base_uri": "https://localhost:8080/"
        },
        "id": "3zURLmyyOZu0",
        "outputId": "a13fc5c4-9a25-4dd4-bf13-fa7662dabbbb"
      },
      "execution_count": null,
      "outputs": [
        {
          "output_type": "execute_result",
          "data": {
            "text/plain": [
              "array([[ 1296,  2401,  4096],\n",
              "       [ 6561, 10000, 14641]])"
            ]
          },
          "metadata": {},
          "execution_count": 13
        }
      ]
    },
    {
      "cell_type": "markdown",
      "source": [
        "arifmetik va statistik amallar\n",
        "\n",
        "cumsum - yig'ilib boriladigan cumulative yig'indi\n",
        "\n",
        "cumprod - yig'ilib boradigan ko'paytma"
      ],
      "metadata": {
        "id": "zEsAgqAuPBOz"
      }
    },
    {
      "cell_type": "code",
      "source": [
        "#data\n",
        "arr = np.random.randn(5, 4)\n",
        "arr"
      ],
      "metadata": {
        "colab": {
          "base_uri": "https://localhost:8080/"
        },
        "id": "XlnrI6_eOyMb",
        "outputId": "c6d12e24-4bfd-42b1-d94e-6ae9f414fbe6"
      },
      "execution_count": null,
      "outputs": [
        {
          "output_type": "execute_result",
          "data": {
            "text/plain": [
              "array([[-0.82446568, -1.24456688, -1.02408819, -1.75887881],\n",
              "       [-0.79170466, -0.04688508, -0.20834915,  1.04223854],\n",
              "       [ 1.83898366, -0.04004051, -2.55907647,  0.44404646],\n",
              "       [ 0.46539876,  1.29351101, -0.76643095, -1.06644406],\n",
              "       [-1.59417668,  1.94732635,  0.20140556, -1.12404269]])"
            ]
          },
          "metadata": {},
          "execution_count": 15
        }
      ]
    },
    {
      "cell_type": "code",
      "source": [
        "#sum metodi\n",
        "arr.sum() # arraydagi barcha elementlar yig'indisi"
      ],
      "metadata": {
        "colab": {
          "base_uri": "https://localhost:8080/"
        },
        "id": "7cpvyVZKP_AE",
        "outputId": "12271754-5c26-4730-d213-2088492a47b3"
      },
      "execution_count": null,
      "outputs": [
        {
          "output_type": "execute_result",
          "data": {
            "text/plain": [
              "-5.816239460910689"
            ]
          },
          "metadata": {},
          "execution_count": 18
        }
      ]
    },
    {
      "cell_type": "code",
      "source": [
        "np.sum(arr) #arraydagi barcha elementlar yig'indisi"
      ],
      "metadata": {
        "colab": {
          "base_uri": "https://localhost:8080/"
        },
        "id": "4Sp20HBmQH0i",
        "outputId": "201619b2-fa41-4694-d26a-ac2ba6a93a7c"
      },
      "execution_count": null,
      "outputs": [
        {
          "output_type": "execute_result",
          "data": {
            "text/plain": [
              "-5.816239460910689"
            ]
          },
          "metadata": {},
          "execution_count": 19
        }
      ]
    },
    {
      "cell_type": "code",
      "source": [
        "arr.sum(axis=1) # qator bo'yicha yig'indi"
      ],
      "metadata": {
        "colab": {
          "base_uri": "https://localhost:8080/"
        },
        "id": "QEKejwT5QH4F",
        "outputId": "50b42d5d-f026-46b3-e735-d23535b038f3"
      },
      "execution_count": null,
      "outputs": [
        {
          "output_type": "execute_result",
          "data": {
            "text/plain": [
              "array([-4.85199955e+00, -4.70034527e-03, -3.16086861e-01, -7.39652384e-02,\n",
              "       -5.69487464e-01])"
            ]
          },
          "metadata": {},
          "execution_count": 22
        }
      ]
    },
    {
      "cell_type": "code",
      "source": [
        "arr.sum(axis=0) # ustun bo'yicha yig'indi"
      ],
      "metadata": {
        "colab": {
          "base_uri": "https://localhost:8080/"
        },
        "id": "ctxI0Ls8RLe7",
        "outputId": "e0196ad7-e168-45a5-d1ac-d6a1d9f974b8"
      },
      "execution_count": null,
      "outputs": [
        {
          "output_type": "execute_result",
          "data": {
            "text/plain": [
              "array([-0.9059646 ,  1.90934489, -4.35653919, -2.46308056])"
            ]
          },
          "metadata": {},
          "execution_count": 21
        }
      ]
    },
    {
      "cell_type": "code",
      "source": [
        "#mean metodi\n",
        "data = np.arange(1, 5)\n",
        "np.sum(data)/5"
      ],
      "metadata": {
        "colab": {
          "base_uri": "https://localhost:8080/"
        },
        "id": "arICbN5jRV45",
        "outputId": "142722c5-3dc7-4957-f66b-56707c1aa607"
      },
      "execution_count": null,
      "outputs": [
        {
          "output_type": "execute_result",
          "data": {
            "text/plain": [
              "2.5"
            ]
          },
          "metadata": {},
          "execution_count": 25
        }
      ]
    },
    {
      "cell_type": "code",
      "source": [
        "np.mean(data)"
      ],
      "metadata": {
        "colab": {
          "base_uri": "https://localhost:8080/"
        },
        "id": "hcgZOz6pSO68",
        "outputId": "bb905e78-874b-45b1-bb98-2073d87202c6"
      },
      "execution_count": null,
      "outputs": [
        {
          "output_type": "execute_result",
          "data": {
            "text/plain": [
              "2.5"
            ]
          },
          "metadata": {},
          "execution_count": 26
        }
      ]
    },
    {
      "cell_type": "code",
      "source": [
        "data.mean"
      ],
      "metadata": {
        "colab": {
          "base_uri": "https://localhost:8080/"
        },
        "id": "DgDmAuhLST85",
        "outputId": "b163af60-ae84-4d03-f5df-d81ae8e91258"
      },
      "execution_count": null,
      "outputs": [
        {
          "output_type": "execute_result",
          "data": {
            "text/plain": [
              "<function ndarray.mean>"
            ]
          },
          "metadata": {},
          "execution_count": 27
        }
      ]
    },
    {
      "cell_type": "code",
      "source": [
        "np.mean(arr, axis=1) #qator bo'yicha o'rtacha qiymat"
      ],
      "metadata": {
        "colab": {
          "base_uri": "https://localhost:8080/"
        },
        "id": "UHrOMllwSnyj",
        "outputId": "92f6d32a-c309-42c8-801d-91c803dff987"
      },
      "execution_count": null,
      "outputs": [
        {
          "output_type": "execute_result",
          "data": {
            "text/plain": [
              "array([-1.21299989e+00, -1.17508632e-03, -7.90217153e-02, -1.84913096e-02,\n",
              "       -1.42371866e-01])"
            ]
          },
          "metadata": {},
          "execution_count": 29
        }
      ]
    },
    {
      "cell_type": "code",
      "source": [
        "np.mean(arr, axis=0) #ustun bo'yicha o'rtacha qiymat"
      ],
      "metadata": {
        "colab": {
          "base_uri": "https://localhost:8080/"
        },
        "id": "9WF8xJKBTQGw",
        "outputId": "317c6698-5b7f-4ec1-da05-fabc0322dd9c"
      },
      "execution_count": null,
      "outputs": [
        {
          "output_type": "execute_result",
          "data": {
            "text/plain": [
              "array([-0.18119292,  0.38186898, -0.87130784, -0.49261611])"
            ]
          },
          "metadata": {},
          "execution_count": 30
        }
      ]
    },
    {
      "cell_type": "code",
      "source": [
        "#consum metodi\n",
        "data"
      ],
      "metadata": {
        "colab": {
          "base_uri": "https://localhost:8080/"
        },
        "id": "DJ-qb6UuU8VD",
        "outputId": "d8d7e0f6-0d4e-4a7d-e104-5120c4b53929"
      },
      "execution_count": null,
      "outputs": [
        {
          "output_type": "execute_result",
          "data": {
            "text/plain": [
              "array([1, 2, 3, 4])"
            ]
          },
          "metadata": {},
          "execution_count": 35
        }
      ]
    },
    {
      "cell_type": "code",
      "source": [
        "arr= np.random.randn(4)\n",
        "#sort funksiyasi\n",
        "arr_sorted= np.sort(arr) #arr massivning tartiblangan versiyasi\n",
        "arr_sorted"
      ],
      "metadata": {
        "colab": {
          "base_uri": "https://localhost:8080/"
        },
        "id": "uqKWD0c-VoOX",
        "outputId": "776a868d-52d8-43cd-d9fd-0607f8c823a2"
      },
      "execution_count": null,
      "outputs": [
        {
          "output_type": "execute_result",
          "data": {
            "text/plain": [
              "array([-1.89310572, -0.26586941,  0.13564414,  0.44298758])"
            ]
          },
          "metadata": {},
          "execution_count": 43
        }
      ]
    },
    {
      "cell_type": "code",
      "source": [
        "arr.sort\n",
        "arr"
      ],
      "metadata": {
        "colab": {
          "base_uri": "https://localhost:8080/"
        },
        "id": "VIdseilaYyyx",
        "outputId": "a295f68f-b64c-41d4-8835-83ae98d10a91"
      },
      "execution_count": null,
      "outputs": [
        {
          "output_type": "execute_result",
          "data": {
            "text/plain": [
              "array([-0.26586941,  0.13564414,  0.44298758, -1.89310572])"
            ]
          },
          "metadata": {},
          "execution_count": 46
        }
      ]
    },
    {
      "cell_type": "code",
      "source": [
        "#teskari tartiblash\n",
        "rev_arr = -np.sort(-arr) # arrayni teskari tartibdagi versiyasi\n",
        "rev_arr"
      ],
      "metadata": {
        "colab": {
          "base_uri": "https://localhost:8080/"
        },
        "id": "28X5-lkCdMs6",
        "outputId": "7bbe3d53-1b4c-4791-e810-fa76e6b225c3"
      },
      "execution_count": null,
      "outputs": [
        {
          "output_type": "execute_result",
          "data": {
            "text/plain": [
              "array([ 0.44298758,  0.13564414, -0.26586941, -1.89310572])"
            ]
          },
          "metadata": {},
          "execution_count": 48
        }
      ]
    },
    {
      "cell_type": "code",
      "source": [
        "# 2D array massiv\n",
        "arr2d = np.random.randn(2, 4)\n",
        "arr2d.ndim\n",
        "arr2d"
      ],
      "metadata": {
        "colab": {
          "base_uri": "https://localhost:8080/"
        },
        "id": "gteGzPRHdqgD",
        "outputId": "2d74ba4b-0f91-4c4e-9311-2337ef403819"
      },
      "execution_count": null,
      "outputs": [
        {
          "output_type": "execute_result",
          "data": {
            "text/plain": [
              "array([[ 1.4400552 ,  1.39424271,  0.80038118, -0.18430887],\n",
              "       [-0.21928576,  1.85128201, -1.20731758, -1.15436774]])"
            ]
          },
          "metadata": {},
          "execution_count": 52
        }
      ]
    },
    {
      "cell_type": "code",
      "source": [
        "# axis = 0  qator o'qi\n",
        "raw_sorted= np.sort(arr2d, axis=0) #arr2d ning har bir qator bo'yicha tartiblangan shakli\n",
        "raw_sorted\n"
      ],
      "metadata": {
        "colab": {
          "base_uri": "https://localhost:8080/"
        },
        "id": "B_j6s19-d3h4",
        "outputId": "1056ac56-54f3-481f-b6c0-66eb5394ba5a"
      },
      "execution_count": null,
      "outputs": [
        {
          "output_type": "execute_result",
          "data": {
            "text/plain": [
              "array([[-0.21928576,  1.39424271, -1.20731758, -1.15436774],\n",
              "       [ 1.4400552 ,  1.85128201,  0.80038118, -0.18430887]])"
            ]
          },
          "metadata": {},
          "execution_count": 55
        }
      ]
    },
    {
      "cell_type": "code",
      "source": [
        "# axis = 1 ustun o'qi\n",
        "column_sorted= np.sort(arr2d, axis=1)\n",
        "column_sorted"
      ],
      "metadata": {
        "colab": {
          "base_uri": "https://localhost:8080/"
        },
        "id": "zLaveNjHey21",
        "outputId": "b6e8e063-2edb-4d13-ff58-9747075c30b3"
      },
      "execution_count": null,
      "outputs": [
        {
          "output_type": "execute_result",
          "data": {
            "text/plain": [
              "array([[-0.18430887,  0.80038118,  1.39424271,  1.4400552 ],\n",
              "       [-1.20731758, -1.15436774, -0.21928576,  1.85128201]])"
            ]
          },
          "metadata": {},
          "execution_count": 57
        }
      ]
    },
    {
      "cell_type": "code",
      "source": [],
      "metadata": {
        "id": "uLuO_ayrfG5I"
      },
      "execution_count": null,
      "outputs": []
    }
  ]
}