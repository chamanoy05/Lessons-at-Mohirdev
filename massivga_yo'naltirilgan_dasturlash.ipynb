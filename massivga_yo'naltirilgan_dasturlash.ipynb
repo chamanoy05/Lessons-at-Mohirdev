{
  "nbformat": 4,
  "nbformat_minor": 0,
  "metadata": {
    "colab": {
      "provenance": [],
      "authorship_tag": "ABX9TyP6sHPUprtELbDIIl2KJkUw",
      "include_colab_link": true
    },
    "kernelspec": {
      "name": "python3",
      "display_name": "Python 3"
    },
    "language_info": {
      "name": "python"
    }
  },
  "cells": [
    {
      "cell_type": "markdown",
      "metadata": {
        "id": "view-in-github",
        "colab_type": "text"
      },
      "source": [
        "<a href=\"https://colab.research.google.com/github/chamanoy05/Lessons-at-Mohirdev/blob/main/massivga_yo'naltirilgan_dasturlash.ipynb\" target=\"_parent\"><img src=\"https://colab.research.google.com/assets/colab-badge.svg\" alt=\"Open In Colab\"/></a>"
      ]
    },
    {
      "cell_type": "code",
      "execution_count": null,
      "metadata": {
        "id": "UDH3booLDx3J"
      },
      "outputs": [],
      "source": [
        "import numpy as np"
      ]
    },
    {
      "cell_type": "markdown",
      "source": [
        "massiv operatorlarini shart operatorlari o\"rnida qo'llash\n",
        "\n",
        "shart operatori sifatida where dan foydalanish\n"
      ],
      "metadata": {
        "id": "erFFB4cSD1Ju"
      }
    },
    {
      "cell_type": "code",
      "source": [
        "#massivlar\n",
        "xarr = np.array([1.1,  1.2,  1.3,  1.4,  1.5])\n",
        "yarr = np.array([2.1,  2.2,  2.3,  2.4,  2.5])\n"
      ],
      "metadata": {
        "id": "zdvsoAixEJe5"
      },
      "execution_count": null,
      "outputs": []
    },
    {
      "cell_type": "code",
      "source": [
        "#shart\n",
        "cond  =  np.array([True, False, True, True, False])\n"
      ],
      "metadata": {
        "id": "9BY78HT4GCVk"
      },
      "execution_count": null,
      "outputs": []
    },
    {
      "cell_type": "code",
      "source": [
        "#where\n",
        "result= np.where(cond, xarr, yarr) #cond agr true bo'lsa xarr dagi element, agar False bo'lsa yarr dagi element qaytaradi\n",
        "result"
      ],
      "metadata": {
        "colab": {
          "base_uri": "https://localhost:8080/"
        },
        "id": "2cdMGE2bIpKE",
        "outputId": "b1f592a0-4202-4b7a-81bb-a8472b543cc5"
      },
      "execution_count": null,
      "outputs": [
        {
          "output_type": "execute_result",
          "data": {
            "text/plain": [
              "array([1.1, 2.2, 1.3, 1.4, 2.5])"
            ]
          },
          "metadata": {},
          "execution_count": 14
        }
      ]
    },
    {
      "cell_type": "code",
      "source": [
        "arr= np.random.randn(3, 3)\n",
        "arr"
      ],
      "metadata": {
        "colab": {
          "base_uri": "https://localhost:8080/"
        },
        "id": "LxuIJ1ZBJ7nF",
        "outputId": "450c7b74-a5ea-4458-8f52-12a14753cdbe"
      },
      "execution_count": null,
      "outputs": [
        {
          "output_type": "execute_result",
          "data": {
            "text/plain": [
              "array([[ 1.75964627,  0.04855577, -0.01095308],\n",
              "       [-0.15241635, -0.88347774,  1.14356014],\n",
              "       [-0.54372798, -0.97252817,  1.52278414]])"
            ]
          },
          "metadata": {},
          "execution_count": 17
        }
      ]
    },
    {
      "cell_type": "code",
      "source": [
        "#where\n",
        "result= np.where(arr<0, -2, 2) # arr elementlarini manfiy bo'lsa-2 ga; musbat bo'lsa 2 ga almashtirish\n",
        "result\n"
      ],
      "metadata": {
        "colab": {
          "base_uri": "https://localhost:8080/"
        },
        "id": "QSdfE11CKtcg",
        "outputId": "817a0051-b163-4464-a4ab-3dead82aec26"
      },
      "execution_count": null,
      "outputs": [
        {
          "output_type": "execute_result",
          "data": {
            "text/plain": [
              "array([[ 2,  2, -2],\n",
              "       [-2, -2,  2],\n",
              "       [-2, -2,  2]])"
            ]
          },
          "metadata": {},
          "execution_count": 20
        }
      ]
    },
    {
      "cell_type": "code",
      "source": [
        "arr"
      ],
      "metadata": {
        "colab": {
          "base_uri": "https://localhost:8080/"
        },
        "id": "Mp7BVpcFLj1R",
        "outputId": "c8e44264-773e-417c-e645-70fd67554d4b"
      },
      "execution_count": null,
      "outputs": [
        {
          "output_type": "execute_result",
          "data": {
            "text/plain": [
              "array([[ 1.75964627,  0.04855577, -0.01095308],\n",
              "       [-0.15241635, -0.88347774,  1.14356014],\n",
              "       [-0.54372798, -0.97252817,  1.52278414]])"
            ]
          },
          "metadata": {},
          "execution_count": 21
        }
      ]
    },
    {
      "cell_type": "code",
      "source": [
        "np.mean(arr)"
      ],
      "metadata": {
        "colab": {
          "base_uri": "https://localhost:8080/"
        },
        "id": "P4M-a6eBSerZ",
        "outputId": "810c0f59-9583-435d-bc73-d61bbf1cfd47"
      },
      "execution_count": null,
      "outputs": [
        {
          "output_type": "execute_result",
          "data": {
            "text/plain": [
              "0.21238255595992583"
            ]
          },
          "metadata": {},
          "execution_count": 23
        }
      ]
    },
    {
      "cell_type": "code",
      "source": [
        "#cumsum metodi\n",
        "data= np.arange(5)"
      ],
      "metadata": {
        "id": "s1Z0VbIfTfKh"
      },
      "execution_count": null,
      "outputs": []
    },
    {
      "cell_type": "markdown",
      "source": [],
      "metadata": {
        "id": "JrwRreTIIsx1"
      }
    },
    {
      "cell_type": "markdown",
      "source": [],
      "metadata": {
        "id": "a-H5H3_MEQbJ"
      }
    }
  ]
}