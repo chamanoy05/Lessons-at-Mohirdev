{
  "nbformat": 4,
  "nbformat_minor": 0,
  "metadata": {
    "colab": {
      "provenance": [],
      "authorship_tag": "ABX9TyO4ep/mn/U4+FQD0m93D2vF",
      "include_colab_link": true
    },
    "kernelspec": {
      "name": "python3",
      "display_name": "Python 3"
    },
    "language_info": {
      "name": "python"
    }
  },
  "cells": [
    {
      "cell_type": "markdown",
      "metadata": {
        "id": "view-in-github",
        "colab_type": "text"
      },
      "source": [
        "<a href=\"https://colab.research.google.com/github/chamanoy05/Lessons-at-Mohirdev/blob/main/universal_funksiyalar.ipynb\" target=\"_parent\"><img src=\"https://colab.research.google.com/assets/colab-badge.svg\" alt=\"Open In Colab\"/></a>"
      ]
    },
    {
      "cell_type": "code",
      "execution_count": null,
      "metadata": {
        "id": "Fht3aqPITxB1"
      },
      "outputs": [],
      "source": [
        "import numpy as np"
      ]
    },
    {
      "cell_type": "markdown",
      "source": [
        "Universal funksiyalar\n",
        "\n",
        "\n",
        "Unary fuksiyalar bitta argument qabul qiluvchi funksiyalar"
      ],
      "metadata": {
        "id": "Pkhgl52mUAPx"
      }
    },
    {
      "cell_type": "code",
      "source": [
        "arr1 = np.arange(10)\n",
        "arr1"
      ],
      "metadata": {
        "colab": {
          "base_uri": "https://localhost:8080/"
        },
        "id": "r075yfEjT9xy",
        "outputId": "f8301d25-eaf5-40ff-92b2-78feee33c2dc"
      },
      "execution_count": null,
      "outputs": [
        {
          "output_type": "execute_result",
          "data": {
            "text/plain": [
              "array([0, 1, 2, 3, 4, 5, 6, 7, 8, 9])"
            ]
          },
          "metadata": {},
          "execution_count": 2
        }
      ]
    },
    {
      "cell_type": "markdown",
      "source": [
        "sqrt massiv har bir elementidan kvadrat ildiz qaytaradi"
      ],
      "metadata": {
        "id": "1mjHvJoQUyw5"
      }
    },
    {
      "cell_type": "code",
      "source": [
        "np.sqrt(arr1) # arr1 nomli massivning barcha elementlaridan kvadrat ildiz qaytaradi"
      ],
      "metadata": {
        "colab": {
          "base_uri": "https://localhost:8080/"
        },
        "id": "NubtskWgU62J",
        "outputId": "49fc01ea-f19e-4273-9313-dc8f7cc1da28"
      },
      "execution_count": null,
      "outputs": [
        {
          "output_type": "execute_result",
          "data": {
            "text/plain": [
              "array([0.        , 1.        , 1.41421356, 1.73205081, 2.        ,\n",
              "       2.23606798, 2.44948974, 2.64575131, 2.82842712, 3.        ])"
            ]
          },
          "metadata": {},
          "execution_count": 8
        }
      ]
    },
    {
      "cell_type": "markdown",
      "source": [
        "square funksiyasi har bir elementni kvadratga ko'taradi"
      ],
      "metadata": {
        "id": "auVNLmREVe9g"
      }
    },
    {
      "cell_type": "code",
      "source": [
        "np.square(arr1) # arr1 nomli massivning barcha elementlarini kvadratga oshirish"
      ],
      "metadata": {
        "colab": {
          "base_uri": "https://localhost:8080/"
        },
        "id": "u-pJXBfyVnIs",
        "outputId": "595ed7ca-045b-4eba-b71d-64f6b87b0c01"
      },
      "execution_count": null,
      "outputs": [
        {
          "output_type": "execute_result",
          "data": {
            "text/plain": [
              "array([ 0,  1,  4,  9, 16, 25, 36, 49, 64, 81])"
            ]
          },
          "metadata": {},
          "execution_count": 7
        }
      ]
    },
    {
      "cell_type": "code",
      "source": [
        "np.exp(arr1) # arr1 noli massivdagi barcha elementlaridan exponential olish"
      ],
      "metadata": {
        "colab": {
          "base_uri": "https://localhost:8080/"
        },
        "id": "Tocl1kT1WFIn",
        "outputId": "f0677600-6eec-4424-e123-dd5284e3fa4f"
      },
      "execution_count": null,
      "outputs": [
        {
          "output_type": "execute_result",
          "data": {
            "text/plain": [
              "array([1.00000000e+00, 2.71828183e+00, 7.38905610e+00, 2.00855369e+01,\n",
              "       5.45981500e+01, 1.48413159e+02, 4.03428793e+02, 1.09663316e+03,\n",
              "       2.98095799e+03, 8.10308393e+03])"
            ]
          },
          "metadata": {},
          "execution_count": 6
        }
      ]
    },
    {
      "cell_type": "code",
      "source": [
        "np.log(arr1) # arr1 nomli massivdagi har bir sonni logarifmini hisoblash"
      ],
      "metadata": {
        "colab": {
          "base_uri": "https://localhost:8080/"
        },
        "id": "8A9UirLUWn2-",
        "outputId": "7717696f-9e2a-4101-8b22-d15531e97e67"
      },
      "execution_count": null,
      "outputs": [
        {
          "output_type": "stream",
          "name": "stderr",
          "text": [
            "<ipython-input-9-61170a6c4415>:1: RuntimeWarning: divide by zero encountered in log\n",
            "  np.log(arr1) # arr1 nomli massivdagi har bir sonni logarifmini hisoblash\n"
          ]
        },
        {
          "output_type": "execute_result",
          "data": {
            "text/plain": [
              "array([      -inf, 0.        , 0.69314718, 1.09861229, 1.38629436,\n",
              "       1.60943791, 1.79175947, 1.94591015, 2.07944154, 2.19722458])"
            ]
          },
          "metadata": {},
          "execution_count": 9
        }
      ]
    },
    {
      "cell_type": "markdown",
      "source": [
        "modf funksiyasi haqiqiy sonlarni butun va qoldiq qismlarini ajratib olish"
      ],
      "metadata": {
        "id": "tDonNmBLXUI8"
      }
    },
    {
      "cell_type": "code",
      "source": [
        "arr2=np.random.randn(6) # 6 ta elementdan iborat taxminiy qiymatlarga ega massiv\n",
        "arr2"
      ],
      "metadata": {
        "colab": {
          "base_uri": "https://localhost:8080/"
        },
        "id": "L2k2mrJNWW7I",
        "outputId": "9beaefc4-679c-43c1-81b2-ebf71a99913b"
      },
      "execution_count": null,
      "outputs": [
        {
          "output_type": "execute_result",
          "data": {
            "text/plain": [
              "array([ 2.01763218,  0.02044381, -0.22087953,  0.7401971 , -1.60900298,\n",
              "       -1.17287941])"
            ]
          },
          "metadata": {},
          "execution_count": 13
        }
      ]
    },
    {
      "cell_type": "code",
      "source": [
        "qoldiq, butun = np.modf(arr2)\n",
        "qoldiq, butun"
      ],
      "metadata": {
        "colab": {
          "base_uri": "https://localhost:8080/"
        },
        "id": "C4EA-LIvYTE_",
        "outputId": "fc3e244c-ed22-4007-b4bb-64bee4eebc3d"
      },
      "execution_count": null,
      "outputs": [
        {
          "output_type": "execute_result",
          "data": {
            "text/plain": [
              "(array([ 0.01763218,  0.02044381, -0.22087953,  0.7401971 , -0.60900298,\n",
              "        -0.17287941]),\n",
              " array([ 2.,  0., -0.,  0., -1., -1.]))"
            ]
          },
          "metadata": {},
          "execution_count": 16
        }
      ]
    },
    {
      "cell_type": "markdown",
      "source": [
        "sign funksiyasi massiv elementlari manfiy bo'lsa -1, musbat bo'lsa +1 qaytaradi"
      ],
      "metadata": {
        "id": "Vz02cwjZYr3I"
      }
    },
    {
      "cell_type": "code",
      "source": [
        "np.sign(arr2) # arr2 massivdagi elementlarini ishoralarini qaytaradi"
      ],
      "metadata": {
        "colab": {
          "base_uri": "https://localhost:8080/"
        },
        "id": "i9TPbabkYoxK",
        "outputId": "4219a266-60d3-41ef-eef2-43abd2ce3615"
      },
      "execution_count": null,
      "outputs": [
        {
          "output_type": "execute_result",
          "data": {
            "text/plain": [
              "array([ 1.,  1., -1.,  1., -1., -1.])"
            ]
          },
          "metadata": {},
          "execution_count": 18
        }
      ]
    },
    {
      "cell_type": "markdown",
      "source": [
        "isnan massivdagi elementlarda NaN ma'lumoti bo'sa True ni, bo'lmasa False ni qaytaradi"
      ],
      "metadata": {
        "id": "J8fpRbMVZQ3A"
      }
    },
    {
      "cell_type": "code",
      "source": [
        "np.isnan(arr2)"
      ],
      "metadata": {
        "colab": {
          "base_uri": "https://localhost:8080/"
        },
        "id": "jdCdyF3uZHhP",
        "outputId": "954263d3-519e-41e2-cce2-45852b20bf47"
      },
      "execution_count": null,
      "outputs": [
        {
          "output_type": "execute_result",
          "data": {
            "text/plain": [
              "array([False, False, False, False, False, False])"
            ]
          },
          "metadata": {},
          "execution_count": 19
        }
      ]
    },
    {
      "cell_type": "code",
      "source": [
        "arr2[0]= np.NaN\n",
        "arr2"
      ],
      "metadata": {
        "colab": {
          "base_uri": "https://localhost:8080/"
        },
        "id": "BokG8oU3Zxbz",
        "outputId": "ae09a9d0-64e0-4be1-b0ce-b3da659db822"
      },
      "execution_count": null,
      "outputs": [
        {
          "output_type": "execute_result",
          "data": {
            "text/plain": [
              "array([        nan,  0.02044381, -0.22087953,  0.7401971 , -1.60900298,\n",
              "       -1.17287941])"
            ]
          },
          "metadata": {},
          "execution_count": 21
        }
      ]
    },
    {
      "cell_type": "code",
      "source": [
        "np.isnan(arr2)"
      ],
      "metadata": {
        "colab": {
          "base_uri": "https://localhost:8080/"
        },
        "id": "Ws6mQ_uoZ6iS",
        "outputId": "1c8e4e7e-47a2-4521-d6fd-ab6ed806372e"
      },
      "execution_count": null,
      "outputs": [
        {
          "output_type": "execute_result",
          "data": {
            "text/plain": [
              "array([ True, False, False, False, False, False])"
            ]
          },
          "metadata": {},
          "execution_count": 22
        }
      ]
    },
    {
      "cell_type": "markdown",
      "source": [
        "Binary funksiyalar (ikkita argument qabul qiluvchi funksiyalar)\n",
        "\n",
        "add, multiply, maximum..."
      ],
      "metadata": {
        "id": "wX4HeNlnaTZ3"
      }
    },
    {
      "cell_type": "markdown",
      "source": [
        "add ikkita massivning mos elementlarini qo'shadi"
      ],
      "metadata": {
        "id": "YMLL6m05apQP"
      }
    },
    {
      "cell_type": "code",
      "source": [
        "arr3= np.random.randn(5)\n",
        "arr4= np.random.randn(5)"
      ],
      "metadata": {
        "id": "sA_Po_ivalKf"
      },
      "execution_count": null,
      "outputs": []
    },
    {
      "cell_type": "code",
      "source": [
        "arr3"
      ],
      "metadata": {
        "colab": {
          "base_uri": "https://localhost:8080/"
        },
        "id": "dSzHjhSPbMOq",
        "outputId": "89c1fc26-331d-4c90-adc2-087c407e424c"
      },
      "execution_count": null,
      "outputs": [
        {
          "output_type": "execute_result",
          "data": {
            "text/plain": [
              "array([ 0.43350086,  0.15812501, -2.19880391,  0.34819315,  0.46423176])"
            ]
          },
          "metadata": {},
          "execution_count": 25
        }
      ]
    },
    {
      "cell_type": "code",
      "source": [
        "arr4"
      ],
      "metadata": {
        "colab": {
          "base_uri": "https://localhost:8080/"
        },
        "id": "Tb0wjjcbbUqQ",
        "outputId": "2c37030a-4ca9-4e07-beec-6d00a07b39be"
      },
      "execution_count": null,
      "outputs": [
        {
          "output_type": "execute_result",
          "data": {
            "text/plain": [
              "array([-0.86567634,  0.82821579,  2.64038923, -1.33129707, -1.59724488])"
            ]
          },
          "metadata": {},
          "execution_count": 26
        }
      ]
    },
    {
      "cell_type": "code",
      "source": [
        "np.add(arr3, arr4) #arr3 va arr4 massivlarini bir biriga mos elementlarini qo'shish"
      ],
      "metadata": {
        "colab": {
          "base_uri": "https://localhost:8080/"
        },
        "id": "TKaM39RTbZZG",
        "outputId": "11f4e116-19ea-4045-a70d-cbf0eb180d74"
      },
      "execution_count": null,
      "outputs": [
        {
          "output_type": "execute_result",
          "data": {
            "text/plain": [
              "array([-0.43217548,  0.9863408 ,  0.44158532, -0.98310392, -1.13301312])"
            ]
          },
          "metadata": {},
          "execution_count": 28
        }
      ]
    },
    {
      "cell_type": "code",
      "source": [
        "arr3+arr4"
      ],
      "metadata": {
        "colab": {
          "base_uri": "https://localhost:8080/"
        },
        "id": "c4xsxFM5bYcO",
        "outputId": "cf018cc6-d0e5-41dc-801f-34d8054199c1"
      },
      "execution_count": null,
      "outputs": [
        {
          "output_type": "execute_result",
          "data": {
            "text/plain": [
              "array([-0.43217548,  0.9863408 ,  0.44158532, -0.98310392, -1.13301312])"
            ]
          },
          "metadata": {},
          "execution_count": 30
        }
      ]
    },
    {
      "cell_type": "code",
      "source": [
        "np.multiply(arr3, arr4) #arr3 va arr4 massivlarni mos elementlarini ko'paytirish"
      ],
      "metadata": {
        "colab": {
          "base_uri": "https://localhost:8080/"
        },
        "id": "bSm0jiPxb0HR",
        "outputId": "574561f0-60de-4dab-ad02-0f0800e3eb7f"
      },
      "execution_count": null,
      "outputs": [
        {
          "output_type": "execute_result",
          "data": {
            "text/plain": [
              "array([-0.37527144,  0.13096163, -5.80569816, -0.46354852, -0.74149179])"
            ]
          },
          "metadata": {},
          "execution_count": 32
        }
      ]
    },
    {
      "cell_type": "markdown",
      "source": [
        "maximum ikkita massivning mos elementlarini taqqoslab ulardan maximumini qaytaradi"
      ],
      "metadata": {
        "id": "SrEj0msKcFDN"
      }
    },
    {
      "cell_type": "code",
      "source": [
        "np.maximum(arr3, arr4) #arr3 va arr4 mos elementlaridan kattasini elementini olish"
      ],
      "metadata": {
        "colab": {
          "base_uri": "https://localhost:8080/"
        },
        "id": "KN1P2W1scLjF",
        "outputId": "cfd26ec6-6372-43f1-bdba-71261c5477ac"
      },
      "execution_count": null,
      "outputs": [
        {
          "output_type": "execute_result",
          "data": {
            "text/plain": [
              "array([0.43350086, 0.82821579, 2.64038923, 0.34819315, 0.46423176])"
            ]
          },
          "metadata": {},
          "execution_count": 34
        }
      ]
    },
    {
      "cell_type": "markdown",
      "source": [],
      "metadata": {
        "id": "itJaWKcPT_OH"
      }
    }
  ]
}